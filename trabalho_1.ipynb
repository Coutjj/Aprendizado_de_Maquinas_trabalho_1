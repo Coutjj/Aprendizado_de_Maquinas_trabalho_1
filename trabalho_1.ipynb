{
 "metadata": {
  "language_info": {
   "codemirror_mode": {
    "name": "ipython",
    "version": 3
   },
   "file_extension": ".py",
   "mimetype": "text/x-python",
   "name": "python",
   "nbconvert_exporter": "python",
   "pygments_lexer": "ipython3",
   "version": "3.8.5"
  },
  "orig_nbformat": 2,
  "kernelspec": {
   "name": "python385jvsc74a57bd0d697d05840a7a2a6511cd40836d47692a40a44a19c392af222443f2320a6f6d6",
   "display_name": "Python 3.8.5 64-bit ('base': conda)"
  }
 },
 "nbformat": 4,
 "nbformat_minor": 2,
 "cells": [
  {
   "cell_type": "code",
   "execution_count": 10,
   "metadata": {},
   "outputs": [
    {
     "output_type": "stream",
     "name": "stdout",
     "text": [
      "\nVariaveis categoricas\n\n['forma_envio_solicitacao', 'sexo', 'estado_onde_nasceu', 'estado_onde_reside', 'possui_telefone_residencial', 'codigo_area_telefone_residencial', 'possui_telefone_celular', 'vinculo_formal_com_empresa', 'estado_onde_trabalha', 'possui_telefone_trabalho', 'codigo_area_telefone_trabalho']\n"
     ]
    },
    {
     "output_type": "error",
     "ename": "ValueError",
     "evalue": "incomplete format",
     "traceback": [
      "\u001b[0;31m---------------------------------------------------------------------------\u001b[0m",
      "\u001b[0;31mValueError\u001b[0m                                Traceback (most recent call last)",
      "\u001b[0;32m<ipython-input-10-1def40db4f26>\u001b[0m in \u001b[0;36m<module>\u001b[0;34m\u001b[0m\n\u001b[1;32m     26\u001b[0m \u001b[0;34m\u001b[0m\u001b[0m\n\u001b[1;32m     27\u001b[0m \u001b[0;32mfor\u001b[0m \u001b[0mcoluna\u001b[0m \u001b[0;32min\u001b[0m \u001b[0mconjunto_treino_df\u001b[0m\u001b[0;34m.\u001b[0m\u001b[0mcolumns\u001b[0m\u001b[0;34m:\u001b[0m\u001b[0;34m\u001b[0m\u001b[0;34m\u001b[0m\u001b[0m\n\u001b[0;32m---> 28\u001b[0;31m     \u001b[0mprint\u001b[0m\u001b[0;34m(\u001b[0m\u001b[0mcoluna\u001b[0m \u001b[0;34m+\u001b[0m\u001b[0;34m\" = %\"\u001b[0m \u001b[0;34m%\u001b[0m \u001b[0mpearsonr\u001b[0m\u001b[0;34m(\u001b[0m\u001b[0mconjunto_treino_df\u001b[0m\u001b[0;34m[\u001b[0m\u001b[0mcoluna\u001b[0m\u001b[0;34m]\u001b[0m\u001b[0;34m,\u001b[0m \u001b[0mconjunto_treino_df\u001b[0m\u001b[0;34m[\u001b[0m\u001b[0;34m'inadimplente'\u001b[0m\u001b[0;34m]\u001b[0m\u001b[0;34m)\u001b[0m\u001b[0;34m)\u001b[0m\u001b[0;34m\u001b[0m\u001b[0;34m\u001b[0m\u001b[0m\n\u001b[0m\u001b[1;32m     29\u001b[0m \u001b[0;34m\u001b[0m\u001b[0m\n\u001b[1;32m     30\u001b[0m \u001b[0;34m\u001b[0m\u001b[0m\n",
      "\u001b[0;31mValueError\u001b[0m: incomplete format"
     ]
    }
   ],
   "source": [
    "import pandas as pd\n",
    "from matplotlib import pyplot as plt\n",
    "from sklearn.neighbors import KNeighborsClassifier\n",
    "from sklearn.preprocessing import LabelBinarizer, MinMaxScaler\n",
    "from sklearn.model_selection import train_test_split, cross_val_score\n",
    "from sklearn.compose import ColumnTransformer\n",
    "from scipy.stats import pearsonr\n",
    "\n",
    "\n",
    "conjunto_treino_df = pd.read_csv(\n",
    "    \"eel891-202002-trabalho-1/conjunto_de_treinamento.csv\"\n",
    ")\n",
    "\n",
    "conjunto_treino_df = conjunto_treino_df.sample(frac=1, random_state=1234)\n",
    "\n",
    "#print(\"\\nImprimir tipos de dados\\n\")\n",
    "#print(conjunto_treino_df.dtypes)\n",
    "\n",
    "variaveis_categoricas = [\n",
    "    coluna for coluna in conjunto_treino_df.columns\n",
    "    if conjunto_treino_df[coluna].dtype == 'object'\n",
    "]\n",
    "\n",
    "print(\"\\nVariaveis categoricas\\n\")\n",
    "print(variaveis_categoricas)\n",
    "\n",
    "for coluna in conjunto_treino_df.columns:\n",
    "    print(coluna)\n",
    "    print(pearsonr(conjunto_treino_df[coluna], conjunto_treino_df['inadimplente']))\n",
    "\n",
    "\n",
    "# for var in variaveis_categoricas:\n",
    "#     print(\"\\hline\")\n",
    "#     print(var + \" & & \\\\\\\\\")\n"
   ]
  },
  {
   "cell_type": "code",
   "execution_count": null,
   "metadata": {},
   "outputs": [],
   "source": []
  }
 ]
}